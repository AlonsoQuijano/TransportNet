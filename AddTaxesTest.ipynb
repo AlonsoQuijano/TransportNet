{
 "cells": [
  {
   "cell_type": "code",
   "execution_count": 1,
   "metadata": {},
   "outputs": [],
   "source": [
    "import pandas as pd\n",
    "import numpy as np\n",
    "import data_handler as dh\n",
    "import model as md\n",
    "import time\n",
    "import matplotlib.pyplot as plt\n",
    "from matplotlib import rc\n",
    "import pickle"
   ]
  },
  {
   "cell_type": "code",
   "execution_count": 2,
   "metadata": {},
   "outputs": [
    {
     "data": {
      "text/plain": [
       "<module 'model' from '/home/mikhail/Education/Semester_11/TransportNet/Stable Dynamic & Beckman/model.py'>"
      ]
     },
     "execution_count": 2,
     "metadata": {},
     "output_type": "execute_result"
    }
   ],
   "source": [
    "import importlib\n",
    "importlib.reload(dh)\n",
    "importlib.reload(md)"
   ]
  },
  {
   "cell_type": "code",
   "execution_count": 3,
   "metadata": {},
   "outputs": [
    {
     "data": {
      "text/plain": [
       "'0.53.1'"
      ]
     },
     "execution_count": 3,
     "metadata": {},
     "output_type": "execute_result"
    }
   ],
   "source": [
    "import numba\n",
    "numba.__version__"
   ]
  },
  {
   "cell_type": "code",
   "execution_count": 4,
   "metadata": {},
   "outputs": [
    {
     "name": "stdout",
     "output_type": "stream",
     "text": [
      "/usr/bin/python3\n",
      "3.6.9 (default, Jan 26 2021, 15:33:00) \n",
      "[GCC 8.4.0]\n",
      "sys.version_info(major=3, minor=6, micro=9, releaselevel='final', serial=0)\n",
      "python 3.6.9\n",
      "numpy 1.19.5\n",
      "pandas 1.1.4\n",
      "graph_tool 2.43 (commit 9d41331e, Wed Jul 7 15:32:52 2021 +0200)\n"
     ]
    }
   ],
   "source": [
    "import sys\n",
    "print(sys.executable)\n",
    "print(sys.version)\n",
    "print(sys.version_info)\n",
    "from platform import python_version\n",
    "print('python', python_version())\n",
    "print('numpy', np.__version__)\n",
    "print('pandas', pd.__version__)\n",
    "import graph_tool\n",
    "print('graph_tool', graph_tool.__version__)"
   ]
  },
  {
   "cell_type": "markdown",
   "metadata": {},
   "source": [
    "# Beckmann model paradox\n",
    "$\\rho = 1$ \n",
    "$\\mu = 1$"
   ]
  },
  {
   "attachments": {},
   "cell_type": "markdown",
   "metadata": {},
   "source": [
    "![title](pics/Beckmann.png)"
   ]
  },
  {
   "cell_type": "code",
   "execution_count": 5,
   "metadata": {},
   "outputs": [],
   "source": [
    "beckmann_paradox_save = 'beckmann_paradox_results/'"
   ]
  },
  {
   "cell_type": "code",
   "execution_count": 6,
   "metadata": {},
   "outputs": [
    {
     "data": {
      "text/html": [
       "<div>\n",
       "<style scoped>\n",
       "    .dataframe tbody tr th:only-of-type {\n",
       "        vertical-align: middle;\n",
       "    }\n",
       "\n",
       "    .dataframe tbody tr th {\n",
       "        vertical-align: top;\n",
       "    }\n",
       "\n",
       "    .dataframe thead th {\n",
       "        text-align: right;\n",
       "    }\n",
       "</style>\n",
       "<table border=\"1\" class=\"dataframe\">\n",
       "  <thead>\n",
       "    <tr style=\"text-align: right;\">\n",
       "      <th></th>\n",
       "      <th>init_node</th>\n",
       "      <th>init_node_thru</th>\n",
       "      <th>term_node</th>\n",
       "      <th>term_node_thru</th>\n",
       "      <th>capacity</th>\n",
       "      <th>free_flow_time</th>\n",
       "    </tr>\n",
       "  </thead>\n",
       "  <tbody>\n",
       "    <tr>\n",
       "      <th>0</th>\n",
       "      <td>1</td>\n",
       "      <td>True</td>\n",
       "      <td>2</td>\n",
       "      <td>True</td>\n",
       "      <td>1.000000e-04</td>\n",
       "      <td>0.000001</td>\n",
       "    </tr>\n",
       "    <tr>\n",
       "      <th>1</th>\n",
       "      <td>1</td>\n",
       "      <td>True</td>\n",
       "      <td>3</td>\n",
       "      <td>True</td>\n",
       "      <td>1.000000e+20</td>\n",
       "      <td>45.000000</td>\n",
       "    </tr>\n",
       "    <tr>\n",
       "      <th>2</th>\n",
       "      <td>2</td>\n",
       "      <td>True</td>\n",
       "      <td>4</td>\n",
       "      <td>True</td>\n",
       "      <td>1.000000e+20</td>\n",
       "      <td>45.000000</td>\n",
       "    </tr>\n",
       "    <tr>\n",
       "      <th>3</th>\n",
       "      <td>3</td>\n",
       "      <td>True</td>\n",
       "      <td>4</td>\n",
       "      <td>True</td>\n",
       "      <td>1.000000e-04</td>\n",
       "      <td>0.000001</td>\n",
       "    </tr>\n",
       "    <tr>\n",
       "      <th>4</th>\n",
       "      <td>2</td>\n",
       "      <td>True</td>\n",
       "      <td>3</td>\n",
       "      <td>True</td>\n",
       "      <td>1.000000e+20</td>\n",
       "      <td>0.000001</td>\n",
       "    </tr>\n",
       "  </tbody>\n",
       "</table>\n",
       "</div>"
      ],
      "text/plain": [
       "   init_node  init_node_thru  term_node  term_node_thru      capacity  \\\n",
       "0          1            True          2            True  1.000000e-04   \n",
       "1          1            True          3            True  1.000000e+20   \n",
       "2          2            True          4            True  1.000000e+20   \n",
       "3          3            True          4            True  1.000000e-04   \n",
       "4          2            True          3            True  1.000000e+20   \n",
       "\n",
       "   free_flow_time  \n",
       "0        0.000001  \n",
       "1       45.000000  \n",
       "2       45.000000  \n",
       "3        0.000001  \n",
       "4        0.000001  "
      ]
     },
     "execution_count": 6,
     "metadata": {},
     "output_type": "execute_result"
    }
   ],
   "source": [
    "net_name = 'BeckmanParadox_net.tntp'\n",
    "trips_name = 'BeckmanParadox_trips.tntp'\n",
    "\n",
    "MU = 1\n",
    "RHO = 1\n",
    "\n",
    "handler = dh.DataHandler()\n",
    "graph_data = handler.GetGraphData(net_name, columns = ['init_node', 'term_node', 'capacity', 'free_flow_time'])\n",
    "graph_correspondences, total_od_flow = handler.GetGraphCorrespondences(trips_name)\n",
    "\n",
    "no_tax_model = md.Model(graph_data, graph_correspondences, \n",
    "                        total_od_flow, mu = MU, rho = RHO)\n",
    "\n",
    "tax_model = md.ModelWithTaxes(graph_data, graph_correspondences, \n",
    "                              total_od_flow, mu = MU, rho = RHO)\n",
    "\n",
    "graph_data['graph_table'].head()"
   ]
  },
  {
   "cell_type": "code",
   "execution_count": 7,
   "metadata": {},
   "outputs": [
    {
     "name": "stdout",
     "output_type": "stream",
     "text": [
      "No tax calculation\n",
      "Composite optimization...\n",
      "Oracles created...\n",
      "Weighted dual averages method...\n",
      "\tElapsed time: 55 sec\n",
      "Tax calculation\n",
      "Composite optimization...\n",
      "Oracles created...\n",
      "Weighted dual averages method...\n",
      "\tElapsed time: 56 sec\n"
     ]
    }
   ],
   "source": [
    "max_iter = 100000\n",
    "\n",
    "solver_kwargs = {'eps_abs': 0.3,\n",
    "                 'max_iter': max_iter, 'stop_crit': 'dual_gap',\n",
    "                 'verbose' : False, 'verbose_step': 2000, 'save_history' : True}\n",
    "\n",
    "print('No tax calculation')\n",
    "tic = time.time()\n",
    "no_tax_result = no_tax_model.find_equilibrium(solver_name = 'wda', solver_kwargs = solver_kwargs)\n",
    "toc = time.time()\n",
    "print('\\tElapsed time: {:.0f} sec'.format(toc - tic))\n",
    "\n",
    "print('Tax calculation')\n",
    "tic = time.time()\n",
    "tax_result = tax_model.find_equilibrium(solver_name = 'wda', solver_kwargs = solver_kwargs)\n",
    "toc = time.time()\n",
    "print('\\tElapsed time: {:.0f} sec'.format(toc - tic))"
   ]
  },
  {
   "cell_type": "code",
   "execution_count": 8,
   "metadata": {},
   "outputs": [
    {
     "name": "stdout",
     "output_type": "stream",
     "text": [
      "Tax flows:\t\t 2263.01 1736.99 1736.95 2263.05 526.07\n",
      "Taxes costs:\t\t 22.63 0.00 0.00 22.63 0.00\n",
      "Tax total time:\t\t257573.65\n",
      "\n",
      "No tax flows:\t\t 4000.00 -0.00 -0.00 4000.00 4000.00\n",
      "No tax total time:\t317840.27\n",
      "\n",
      "Anarchy price:\t\t 1.2339782250795903\n"
     ]
    }
   ],
   "source": [
    "def form_list(arr):\n",
    "     return [\"{0:0.2f}\".format(el) for el in arr]\n",
    "\n",
    "def anarchy_cost(tax_result, no_tax_result):\n",
    "    tax_vals = tax_result['taxes']\n",
    "    tax_t = tax_result['times'] - tax_vals\n",
    "    tax_f = tax_result['flows']\n",
    "    no_tax_t = no_tax_result['times']\n",
    "    no_tax_f = no_tax_result['flows']\n",
    "    \n",
    "    tax_total = np.dot(tax_t, tax_f)\n",
    "    no_tax_total = np.dot(no_tax_t, no_tax_f)\n",
    "    print(\"Tax flows:\\t\\t\", *form_list(tax_f))\n",
    "    print(\"Taxes costs:\\t\\t\", *form_list(tax_vals))\n",
    "    print(\"Tax total time:\\t\\t{:.2f}\\n\".format(tax_total))\n",
    "    print(\"No tax flows:\\t\\t\", *form_list(no_tax_f))\n",
    "    print(\"No tax total time:\\t{:.2f}\".format(no_tax_total))\n",
    "    print(\"\\nAnarchy price:\\t\\t\", no_tax_total / tax_total)\n",
    "\n",
    "anarchy_cost(tax_result, no_tax_result)"
   ]
  },
  {
   "cell_type": "markdown",
   "metadata": {
    "cell_style": "center"
   },
   "source": [
    "# Stable dynamics paradox\n",
    "$\\rho = 1$ \n",
    "$\\mu = 0$"
   ]
  },
  {
   "cell_type": "markdown",
   "metadata": {},
   "source": [
    "![title](pics/Stable.png)"
   ]
  },
  {
   "cell_type": "code",
   "execution_count": 9,
   "metadata": {},
   "outputs": [],
   "source": [
    "beckmann_paradox_save = 'stable_paradox_results/'"
   ]
  },
  {
   "cell_type": "code",
   "execution_count": 10,
   "metadata": {},
   "outputs": [
    {
     "data": {
      "text/html": [
       "<div>\n",
       "<style scoped>\n",
       "    .dataframe tbody tr th:only-of-type {\n",
       "        vertical-align: middle;\n",
       "    }\n",
       "\n",
       "    .dataframe tbody tr th {\n",
       "        vertical-align: top;\n",
       "    }\n",
       "\n",
       "    .dataframe thead th {\n",
       "        text-align: right;\n",
       "    }\n",
       "</style>\n",
       "<table border=\"1\" class=\"dataframe\">\n",
       "  <thead>\n",
       "    <tr style=\"text-align: right;\">\n",
       "      <th></th>\n",
       "      <th>init_node</th>\n",
       "      <th>init_node_thru</th>\n",
       "      <th>term_node</th>\n",
       "      <th>term_node_thru</th>\n",
       "      <th>capacity</th>\n",
       "      <th>free_flow_time</th>\n",
       "    </tr>\n",
       "  </thead>\n",
       "  <tbody>\n",
       "    <tr>\n",
       "      <th>0</th>\n",
       "      <td>1</td>\n",
       "      <td>True</td>\n",
       "      <td>2</td>\n",
       "      <td>True</td>\n",
       "      <td>2000.0</td>\n",
       "      <td>15.0</td>\n",
       "    </tr>\n",
       "    <tr>\n",
       "      <th>1</th>\n",
       "      <td>1</td>\n",
       "      <td>True</td>\n",
       "      <td>3</td>\n",
       "      <td>True</td>\n",
       "      <td>2000.0</td>\n",
       "      <td>60.0</td>\n",
       "    </tr>\n",
       "    <tr>\n",
       "      <th>2</th>\n",
       "      <td>2</td>\n",
       "      <td>True</td>\n",
       "      <td>3</td>\n",
       "      <td>True</td>\n",
       "      <td>2000.0</td>\n",
       "      <td>30.0</td>\n",
       "    </tr>\n",
       "  </tbody>\n",
       "</table>\n",
       "</div>"
      ],
      "text/plain": [
       "   init_node  init_node_thru  term_node  term_node_thru  capacity  \\\n",
       "0          1            True          2            True    2000.0   \n",
       "1          1            True          3            True    2000.0   \n",
       "2          2            True          3            True    2000.0   \n",
       "\n",
       "   free_flow_time  \n",
       "0            15.0  \n",
       "1            60.0  \n",
       "2            30.0  "
      ]
     },
     "execution_count": 10,
     "metadata": {},
     "output_type": "execute_result"
    }
   ],
   "source": [
    "net_name = 'StableParadox_net.tntp'\n",
    "trips_name = 'StableParadox_trips.tntp'\n",
    "\n",
    "MU = 0\n",
    "RHO = 1\n",
    "\n",
    "handler = dh.DataHandler()\n",
    "graph_data = handler.GetGraphData(net_name, columns = ['init_node', 'term_node', 'capacity', 'free_flow_time'])\n",
    "graph_correspondences, total_od_flow = handler.GetGraphCorrespondences(trips_name)\n",
    "\n",
    "no_tax_model = md.Model(graph_data, graph_correspondences, \n",
    "                        total_od_flow, mu = MU, rho = RHO)\n",
    "\n",
    "tax_model = md.ModelWithTaxes(graph_data, graph_correspondences, \n",
    "                              total_od_flow, mu = MU, rho = RHO)\n",
    "\n",
    "graph_data['graph_table'].head()"
   ]
  },
  {
   "cell_type": "code",
   "execution_count": 11,
   "metadata": {},
   "outputs": [
    {
     "name": "stdout",
     "output_type": "stream",
     "text": [
      "No tax calculation\n",
      "Composite optimization...\n",
      "Oracles created...\n",
      "Weighted dual averages method...\n",
      "\tElapsed time: 136 sec\n",
      "Tax calculation\n",
      "Composite optimization...\n",
      "Oracles created...\n",
      "Weighted dual averages method...\n",
      "\tElapsed time: 140 sec\n"
     ]
    }
   ],
   "source": [
    "max_iter = 100000\n",
    "\n",
    "solver_kwargs = {'eps_abs': 0.3,\n",
    "                 'max_iter': max_iter, 'stop_crit': 'dual_gap',\n",
    "                 'verbose' : False, 'verbose_step': 2000, 'save_history' : True}\n",
    "\n",
    "print('No tax calculation')\n",
    "tic = time.time()\n",
    "no_tax_result = no_tax_model.find_equilibrium(solver_name = 'wda', solver_kwargs = solver_kwargs,\n",
    "                                              base_flows = 0.8 * graph_data['graph_table']['capacity'])\n",
    "toc = time.time()\n",
    "print('\\tElapsed time: {:.0f} sec'.format(toc - tic))\n",
    "\n",
    "print('Tax calculation')\n",
    "tic = time.time()\n",
    "tax_result = tax_model.find_equilibrium(solver_name = 'wda', solver_kwargs = solver_kwargs,\n",
    "                                        base_flows = 0.8 * graph_data['graph_table']['capacity'])\n",
    "toc = time.time()\n",
    "print('\\tElapsed time: {:.0f} sec'.format(toc - tic))"
   ]
  },
  {
   "cell_type": "code",
   "execution_count": 12,
   "metadata": {},
   "outputs": [
    {
     "name": "stdout",
     "output_type": "stream",
     "text": [
      "Tax flows:\t\t 501.75 998.25 2001.75\n",
      "Taxes costs:\t\t 0.00 0.00 15.00\n",
      "Tax total time:\t\t127473.80\n",
      "\n",
      "No tax flows:\t\t 501.75 998.25 2001.75\n",
      "No tax total time:\t157500.83\n",
      "\n",
      "Anarchy price:\t\t 1.2355545421277998\n"
     ]
    }
   ],
   "source": [
    "anarchy_cost(tax_result, no_tax_result)"
   ]
  },
  {
   "cell_type": "markdown",
   "metadata": {},
   "source": []
  },
  {
   "cell_type": "code",
   "execution_count": 13,
   "metadata": {},
   "outputs": [
    {
     "data": {
      "text/html": [
       "<div>\n",
       "<style scoped>\n",
       "    .dataframe tbody tr th:only-of-type {\n",
       "        vertical-align: middle;\n",
       "    }\n",
       "\n",
       "    .dataframe tbody tr th {\n",
       "        vertical-align: top;\n",
       "    }\n",
       "\n",
       "    .dataframe thead th {\n",
       "        text-align: right;\n",
       "    }\n",
       "</style>\n",
       "<table border=\"1\" class=\"dataframe\">\n",
       "  <thead>\n",
       "    <tr style=\"text-align: right;\">\n",
       "      <th></th>\n",
       "      <th>init_node</th>\n",
       "      <th>init_node_thru</th>\n",
       "      <th>term_node</th>\n",
       "      <th>term_node_thru</th>\n",
       "      <th>capacity</th>\n",
       "      <th>free_flow_time</th>\n",
       "    </tr>\n",
       "  </thead>\n",
       "  <tbody>\n",
       "    <tr>\n",
       "      <th>0</th>\n",
       "      <td>1</td>\n",
       "      <td>False</td>\n",
       "      <td>117</td>\n",
       "      <td>True</td>\n",
       "      <td>9000.0</td>\n",
       "      <td>1.090458</td>\n",
       "    </tr>\n",
       "    <tr>\n",
       "      <th>1</th>\n",
       "      <td>2</td>\n",
       "      <td>False</td>\n",
       "      <td>87</td>\n",
       "      <td>True</td>\n",
       "      <td>9000.0</td>\n",
       "      <td>1.090458</td>\n",
       "    </tr>\n",
       "    <tr>\n",
       "      <th>2</th>\n",
       "      <td>3</td>\n",
       "      <td>False</td>\n",
       "      <td>74</td>\n",
       "      <td>True</td>\n",
       "      <td>9000.0</td>\n",
       "      <td>1.090458</td>\n",
       "    </tr>\n",
       "    <tr>\n",
       "      <th>3</th>\n",
       "      <td>4</td>\n",
       "      <td>False</td>\n",
       "      <td>233</td>\n",
       "      <td>True</td>\n",
       "      <td>9000.0</td>\n",
       "      <td>1.090458</td>\n",
       "    </tr>\n",
       "    <tr>\n",
       "      <th>4</th>\n",
       "      <td>5</td>\n",
       "      <td>False</td>\n",
       "      <td>165</td>\n",
       "      <td>True</td>\n",
       "      <td>9000.0</td>\n",
       "      <td>1.090458</td>\n",
       "    </tr>\n",
       "  </tbody>\n",
       "</table>\n",
       "</div>"
      ],
      "text/plain": [
       "   init_node  init_node_thru  term_node  term_node_thru  capacity  \\\n",
       "0          1           False        117            True    9000.0   \n",
       "1          2           False         87            True    9000.0   \n",
       "2          3           False         74            True    9000.0   \n",
       "3          4           False        233            True    9000.0   \n",
       "4          5           False        165            True    9000.0   \n",
       "\n",
       "   free_flow_time  \n",
       "0        1.090458  \n",
       "1        1.090458  \n",
       "2        1.090458  \n",
       "3        1.090458  \n",
       "4        1.090458  "
      ]
     },
     "execution_count": 13,
     "metadata": {},
     "output_type": "execute_result"
    }
   ],
   "source": [
    "net_name = 'Anaheim_net.tntp'\n",
    "trips_name = 'Anaheim_trips.tntp'\n",
    "\n",
    "MU = 0.25\n",
    "RHO = 0.15\n",
    "\n",
    "handler = dh.DataHandler()\n",
    "graph_data = handler.GetGraphData(net_name, columns = ['init_node', 'term_node', 'capacity', 'free_flow_time'])\n",
    "graph_correspondences, total_od_flow = handler.GetGraphCorrespondences(trips_name)\n",
    "\n",
    "no_tax_model = md.Model(graph_data, graph_correspondences, \n",
    "                        total_od_flow, mu = MU, rho = RHO)\n",
    "\n",
    "tax_model = md.ModelWithTaxes(graph_data, graph_correspondences, \n",
    "                              total_od_flow, mu = MU, rho = RHO)\n",
    "\n",
    "graph_data['graph_table'].head()"
   ]
  },
  {
   "cell_type": "code",
   "execution_count": 14,
   "metadata": {},
   "outputs": [
    {
     "name": "stdout",
     "output_type": "stream",
     "text": [
      "No tax calculation\n",
      "Composite optimization...\n",
      "Oracles created...\n",
      "Weighted dual averages method...\n",
      "Primal_init = 1.29606e+06\n",
      "Dual_init = -1.24813e+06\n",
      "Duality_gap_init = 47933.4\n",
      "\n",
      "Iterations number: 2000\n",
      "Primal_func_value = 1.28604e+06\n",
      "Dual_func_value = -1.286e+06\n",
      "Duality_gap = 34.197\n",
      "Duality_gap / Duality_gap_init = 0.000713428\n",
      "\n",
      "Iterations number: 4000\n",
      "Primal_func_value = 1.28604e+06\n",
      "Dual_func_value = -1.28602e+06\n",
      "Duality_gap = 18.1014\n",
      "Duality_gap / Duality_gap_init = 0.000377636\n",
      "\n",
      "Iterations number: 6000\n",
      "Primal_func_value = 1.28603e+06\n",
      "Dual_func_value = -1.28602e+06\n",
      "Duality_gap = 12.4101\n",
      "Duality_gap / Duality_gap_init = 0.000258903\n",
      "\n",
      "Iterations number: 8000\n",
      "Primal_func_value = 1.28603e+06\n",
      "Dual_func_value = -1.28602e+06\n",
      "Duality_gap = 9.47457\n",
      "Duality_gap / Duality_gap_init = 0.000197661\n",
      "\n",
      "Iterations number: 10000\n",
      "Primal_func_value = 1.28603e+06\n",
      "Dual_func_value = -1.28603e+06\n",
      "Duality_gap = 7.67665\n",
      "Duality_gap / Duality_gap_init = 0.000160152\n",
      "\n",
      "Result: iterations number exceeded\n",
      "Total iters: 10000\n",
      "Primal_func_value = 1.28603e+06\n",
      "Dual_func_value = -1.28603e+06\n",
      "Duality_gap = 7.67665\n",
      "Duality_gap / Duality_gap_init = 0.000160152\n",
      "Oracle elapsed time: 331 sec\n",
      "\tElapsed time: 339 sec\n",
      "Tax calculation\n",
      "Composite optimization...\n",
      "Oracles created...\n",
      "Weighted dual averages method...\n",
      "Primal_init = 1.4878e+06\n",
      "Dual_init = -1.24813e+06\n",
      "Duality_gap_init = 239667\n",
      "\n",
      "Iterations number: 2000\n",
      "Primal_func_value = 1.39506e+06\n",
      "Dual_func_value = -1.3937e+06\n",
      "Duality_gap = 1362.29\n",
      "Duality_gap / Duality_gap_init = 0.00568409\n",
      "\n",
      "Iterations number: 4000\n",
      "Primal_func_value = 1.39504e+06\n",
      "Dual_func_value = -1.39424e+06\n",
      "Duality_gap = 800.672\n",
      "Duality_gap / Duality_gap_init = 0.00334077\n",
      "\n",
      "Iterations number: 6000\n",
      "Primal_func_value = 1.39503e+06\n",
      "Dual_func_value = -1.39445e+06\n",
      "Duality_gap = 579.336\n",
      "Duality_gap / Duality_gap_init = 0.00241725\n",
      "\n",
      "Iterations number: 8000\n",
      "Primal_func_value = 1.39503e+06\n",
      "Dual_func_value = -1.39457e+06\n",
      "Duality_gap = 458.074\n",
      "Duality_gap / Duality_gap_init = 0.00191129\n",
      "\n",
      "Iterations number: 10000\n",
      "Primal_func_value = 1.39502e+06\n",
      "Dual_func_value = -1.39464e+06\n",
      "Duality_gap = 380.722\n",
      "Duality_gap / Duality_gap_init = 0.00158854\n",
      "\n",
      "Result: iterations number exceeded\n",
      "Total iters: 10000\n",
      "Primal_func_value = 1.39502e+06\n",
      "Dual_func_value = -1.39464e+06\n",
      "Duality_gap = 380.722\n",
      "Duality_gap / Duality_gap_init = 0.00158854\n",
      "Oracle elapsed time: 336 sec\n",
      "\tElapsed time: 346 sec\n"
     ]
    }
   ],
   "source": [
    "max_iter = 10000\n",
    "\n",
    "solver_kwargs = {'eps_abs': 0.3,\n",
    "                 'max_iter': max_iter, 'stop_crit': 'dual_gap',\n",
    "                 'verbose' : True, 'verbose_step': 2000, 'save_history' : True}\n",
    "\n",
    "print('No tax calculation')\n",
    "tic = time.time()\n",
    "no_tax_result = no_tax_model.find_equilibrium(solver_name = 'wda', solver_kwargs = solver_kwargs)\n",
    "toc = time.time()\n",
    "print('\\tElapsed time: {:.0f} sec'.format(toc - tic))\n",
    "\n",
    "print('Tax calculation')\n",
    "tic = time.time()\n",
    "tax_result = tax_model.find_equilibrium(solver_name = 'wda', solver_kwargs = solver_kwargs)\n",
    "toc = time.time()\n",
    "print('\\tElapsed time: {:.0f} sec'.format(toc - tic))"
   ]
  },
  {
   "cell_type": "code",
   "execution_count": 15,
   "metadata": {},
   "outputs": [
    {
     "name": "stdout",
     "output_type": "stream",
     "text": [
      "Tax flows:\t\t 7074.90 9662.50 7669.00 12173.80 2586.80 6576.60 7137.10 722.10 1576.15 661.35 72.20 77.10 485.80 488.20 37.00 125.20 407.10 249.00 648.30 2185.80 683.00 746.90 291.10 503.60 1134.45 1507.35 624.81 899.59 1522.50 191.00 184.90 4583.36 3970.84 2158.75 816.25 314.20 233.50 1460.97 622.23 626.85 517.95 1373.31 1562.19 1563.50 2075.30 1413.08 644.82 824.71 958.49 3909.69 1412.51 1529.20 435.30 646.17 286.63 222.90 114.70 884.53 627.27 71.16 27.10 42.50 16.20 355.28 142.09 614.13 359.91 17.40 19.90 538.17 248.48 -0.00 -0.00 347.90 931.42 258.57 -0.00 718.04 17.40 126.97 282.29 833.36 376.28 190.78 -0.00 2790.68 594.02 1381.15 923.40 1632.72 181.23 1842.17 4080.93 1813.95 1287.78 1908.85 3786.90 2007.49 944.09 2146.80 3003.48 13602.20 13602.20 7021.08 168.21 7189.28 7189.28 5612.96 -0.00 5612.96 4904.19 731.82 5636.01 5481.20 1179.87 6661.07 2266.20 5402.80 7669.00 5676.60 5676.60 2192.23 2143.36 4335.59 4204.16 1214.50 5418.66 4182.72 213.17 4395.90 3925.63 942.10 4867.73 4867.73 4380.89 5281.61 9662.50 8328.00 8328.00 7109.04 391.92 7500.96 7500.96 3921.12 1836.04 522.38 6279.54 4512.58 0.01 4512.59 4044.92 1090.89 5135.80 4982.64 493.87 5476.51 5025.02 -0.00 5025.02 165.32 3003.45 2652.45 5821.22 5821.22 702.60 6523.82 5588.34 124.84 5713.18 4470.46 811.79 5282.25 5282.25 503.99 5786.24 2811.65 1130.27 2762.33 6704.25 6704.25 6263.29 811.61 7074.90 4644.20 4644.20 3174.06 2571.69 5745.74 5745.74 5705.85 328.67 6034.52 6034.52 706.06 6740.58 6009.91 -0.00 6009.91 6009.91 5642.40 1050.14 6692.55 6692.52 137.41 6829.92 6829.92 6526.93 499.78 7026.71 4023.22 3090.89 2114.38 2512.00 7717.27 7474.26 71.90 7546.16 4394.88 3484.37 7879.25 7824.65 290.20 8114.85 4327.95 3101.74 2320.46 5422.20 4905.60 112.40 5018.00 5018.00 4210.49 222.20 4432.69 2930.96 334.71 3265.67 3265.67 3265.67 578.16 3843.83 2896.48 -0.00 2896.48 2896.48 47.11 2943.59 2943.59 1832.10 754.70 2586.80 6522.20 6522.20 5835.90 863.77 6699.67 3801.65 2954.84 1605.62 4560.46 677.22 5237.68 5237.68 5237.68 773.32 6010.99 5549.59 -0.00 5549.59 5145.52 514.34 5659.86 4651.40 755.69 5407.09 5407.09 1637.10 2467.64 2440.78 6545.52 6545.52 5171.23 278.59 5449.82 5449.82 6581.12 486.84 7067.96 7067.96 6621.73 1052.82 7674.56 7674.56 1942.74 506.94 4389.85 6839.54 6839.54 6737.90 227.10 6965.01 6325.79 513.17 6838.96 6838.96 346.84 7185.79 6088.31 0.10 6088.41 6088.41 5766.25 3028.12 121.04 3149.16 3493.92 6643.09 5034.64 1541.96 6576.60 4983.60 4983.60 3779.70 2898.01 2174.08 5072.10 472.60 5544.70 4863.80 437.22 5301.02 5301.02 5099.82 480.98 5580.80 4182.62 1383.60 5566.22 5461.83 305.92 5767.75 5616.38 741.50 6357.88 2448.21 4029.84 5695.74 6478.06 12173.80 10223.90 10223.90 8936.12 6424.12 1842.17 0.03 3771.67 5613.88 4805.85 1274.69 6080.54 5401.52 69.18 5470.70 5104.40 1980.19 7084.59 5661.73 765.57 6427.30 5619.37 452.87 6072.24 6001.86 2507.93 1891.04 2738.12 4398.98 7137.10 3703.30 407.10 154.81 3703.30 252.29 131.43 2523.43 150.66 37.00 125.20 708.77 37.00 817.90 1235.93 706.65 996.26 1576.32 -0.00 470.27 1576.32 942.10 592.80 37.00 241.50 249.00 54.60 241.50 311.70 243.01 68.60 178.20 340.30 27.10 1338.73 106.21 221.86 306.80 71.16 1907.77 2141.61 1736.92 4377.18 16.20 3027.86 1816.69 4003.52 42.50 2046.59 684.74 2070.11 1877.36 684.74 446.23 1877.36 684.64 1374.29 1270.66 541.10 377.42 142.09 592.80 2222.82 116.40 303.68 355.28 501.60 1115.45 501.60 488.20 1184.00 648.30 151.37 1443.16 811.99 451.49 -0.00 -0.00 451.49 702.60 451.49 702.60 1928.15 1736.92 1928.15 1736.92 153.16 1928.15 1736.92 935.48 1587.44 926.28 1587.44 926.28 1587.44 926.28 2470.45 1816.69 467.67 2470.45 1854.98 1242.72 1885.53 1479.25 1766.96 2040.97 303.14 -0.00 2040.96 415.05 359.40 116.40 1218.96 829.47 834.65 440.96 1375.71 1369.37 1539.77 1369.37 1184.00 528.65 119.93 516.60 894.28 124.45 303.00 894.28 124.40 808.03 1443.16 697.45 376.59 645.06 451.49 620.28 292.90 701.03 618.70 292.90 202.25 359.91 1587.44 618.70 1223.41 149.45 716.92 614.13 19.90 1940.72 1532.27 562.28 17.40 1648.89 822.41 387.93 359.40 796.28 535.00 113.19 101.63 582.75 685.13 1008.46 607.41 1399.11 1019.89 248.48 1539.77 1574.15 37.00 37.00 485.80 807.51 290.00 119.93 104.40 1844.20 1424.93 1585.45 387.93 875.31 -0.00 257.34 0.03 137.41 -0.00 1138.94 0.03 -0.00 1003.94 367.80 358.90 1067.30 858.73 679.02 1844.19 516.61 -0.00 908.34 -0.00 -0.00 1422.36 -0.00 1275.07 1498.27 1585.45 10.20 730.77 410.33 282.31 10.20 -0.00 843.96 1289.76 2185.80 1501.73 1289.76 1018.78 367.51 1289.76 1018.95 875.31 607.30 737.98 753.90 734.10 737.98 1138.94 734.10 1053.76 1121.64 1435.11 851.80 1139.34 968.91 1203.20 931.42 1386.76 961.97 1100.77 3144.40 347.90 1398.17 2653.22 392.50 628.28 990.50 392.50 804.36 -0.00 1063.55 990.50 593.30 590.64 258.57 48.56 545.51 67.59 243.95 802.22 1329.47 639.22 986.18 1284.19 404.07 1066.95 1557.31 842.01 577.30 538.17 17.40 1229.81 734.01 734.01 72.20 366.30 1685.39 806.50 450.38 -0.00 964.10 723.73 2226.62 -0.00 1454.72 776.42 557.67 1520.68 1052.55 495.64 636.90 1625.04 720.54 110.58 963.75 249.71 583.51 372.56 977.24 593.30 201.20 977.24 873.08 1422.86 977.24 1210.02 860.44 683.00 -0.00 860.44 765.79 730.67 365.06 188.01 11.00 517.95 116.77 724.75 447.73 116.77 1279.05 447.73 674.35 805.24 1239.91 786.90 491.69 474.91 1239.99 624.91 208.73 963.71 288.71 624.88 490.97 555.85 1971.46 682.61 386.85 717.25 63.83 486.29 471.01 67.60 -0.00 486.29 817.85 461.40 486.29 817.85 458.90 718.04 947.70 425.39 71.70 425.39 77.10 147.99 504.82 1110.67 746.90 947.35 1110.67 85.20 -0.00 1396.33 85.31 11.00 690.38 182.92 547.52 610.76 182.92 1408.28 282.29 1745.03 610.76 2007.79 1057.25 1029.33 968.19 0.00 957.02 554.41 849.88 1017.60 696.50 608.30 645.91 328.19 890.78 376.28 1570.89 550.57 1158.96 807.93 821.77 1158.96 680.90 147.99 1176.84 393.90 504.81 1097.49 1176.83 0.11 -0.00 1880.43 542.41 398.21 -0.00 750.89 1649.41 228.70 228.70 1576.15 191.53 291.10 -0.00 191.53 291.10 39.89 144.42 580.02 144.56 580.02 11.00 144.56 436.02 2614.05 261.62 126.97 1950.52 756.92 820.46 17.66 1524.04 804.27 160.49 838.71 1659.76 927.80 1195.63 322.60 1837.79 653.89 763.06 235.02 833.36 1744.13 783.84 1187.29 63.82 2064.77 915.95 800.50 70.38 2360.46 1611.97 322.16 1235.82 1883.45 846.81 1235.82 1237.05 566.49 190.78 759.01 604.10 146.94 604.10 661.35 1203.90 82.30 3.00 6087.10 503.60 6087.10 503.60 1111.49 6087.10 737.30 1470.14 6677.59 712.46 67.30 594.02 127.57 5551.21 161.50 2790.68 261.62 624.29 409.75 89.78 1584.22 559.28 962.25 1448.49 1104.39 1650.15 577.22 1903.02 1163.21 509.38 744.19 923.40 1253.41 1660.57 934.22 1565.51 1381.15 195.93 2423.94 387.90 1608.44 2080.77 1684.66 686.30 1407.97 1058.16 1142.25 604.00 37.00 37.00 722.10 409.75 1134.45 1650.15 1507.35 509.38 624.81 934.22 899.59 387.90 1522.50\n",
      "Taxes costs:\t\t 0.25 0.87 0.34 2.19 0.00 0.19 0.26 0.00 0.00 0.00 0.00 0.00 0.00 0.00 0.00 0.00 0.00 0.00 0.00 0.02 0.00 0.00 0.00 0.00 0.00 0.00 0.00 0.00 0.00 0.00 0.00 0.00 0.00 0.00 0.00 0.00 0.00 0.00 0.00 0.00 0.00 0.00 0.00 0.00 0.00 0.00 0.00 0.00 0.00 0.00 0.00 0.00 0.00 0.00 0.00 0.00 0.00 0.00 0.00 0.00 0.00 0.00 0.00 0.00 0.00 0.00 0.00 0.00 0.00 0.00 0.00 0.00 0.00 0.00 0.00 0.00 0.00 0.00 0.00 0.00 0.00 0.00 0.00 0.00 0.00 0.04 0.00 0.00 0.00 0.00 0.00 0.00 0.01 0.00 0.00 0.00 0.01 0.00 0.00 0.00 0.00 3.41 8.33 0.30 0.00 0.21 0.14 0.06 0.00 0.39 0.04 0.01 0.32 0.05 0.06 0.12 0.00 0.06 0.84 0.10 0.25 0.00 0.00 0.02 0.02 0.06 0.27 0.02 0.00 0.15 0.01 0.02 0.03 0.04 0.04 0.06 2.12 0.48 1.17 0.16 0.00 0.16 0.22 0.02 0.00 0.00 0.24 0.03 0.00 0.12 0.02 0.04 0.10 0.04 0.00 0.08 0.04 0.00 0.11 0.00 0.00 0.00 0.20 0.07 0.01 0.16 0.06 0.00 0.15 0.02 0.01 0.22 0.05 0.00 0.17 0.00 0.00 0.00 0.14 0.10 0.09 0.01 0.61 0.05 0.11 0.01 1.25 0.13 0.15 0.06 0.00 0.26 0.08 0.01 0.40 0.08 0.00 0.18 0.09 0.06 0.03 0.39 0.14 0.00 0.23 0.17 0.11 0.00 0.08 0.04 0.00 0.00 0.00 0.86 0.19 0.00 0.68 0.03 0.01 0.81 0.23 0.00 0.87 0.01 0.00 0.00 0.04 0.04 0.00 0.05 0.03 0.04 0.00 0.06 0.00 0.00 0.01 0.02 0.01 0.00 0.04 0.00 0.00 0.01 0.00 0.00 0.01 0.01 0.00 0.01 0.01 0.18 0.44 0.07 0.02 0.35 0.02 0.00 0.00 0.03 0.01 0.08 0.04 0.05 0.01 0.24 0.06 0.00 0.17 0.04 0.00 0.44 0.03 0.01 0.03 0.07 0.00 0.00 0.00 0.30 0.16 0.04 0.00 0.18 0.15 0.14 0.00 0.43 0.50 0.12 0.04 0.30 0.57 0.00 0.00 0.03 0.19 0.07 0.13 0.00 1.00 0.10 0.00 0.40 0.13 0.00 0.49 0.08 0.00 0.07 0.15 0.07 0.00 0.00 0.01 0.01 0.34 0.04 0.16 0.46 0.06 0.06 0.01 0.01 0.00 0.02 0.00 0.07 0.03 0.00 0.08 0.02 0.03 0.00 0.09 0.02 0.10 0.08 0.03 0.00 0.11 0.04 0.01 0.02 0.00 0.01 0.03 0.05 2.19 1.09 1.09 0.07 0.04 0.00 0.00 0.00 0.02 0.02 0.08 0.12 0.05 0.00 0.08 0.02 0.44 0.24 0.06 0.01 0.18 0.04 0.00 0.11 0.04 0.00 0.37 0.00 0.02 0.26 0.13 0.00 0.00 0.27 0.00 0.00 0.01 0.00 0.00 0.00 0.01 0.00 0.00 0.07 0.00 0.00 0.18 0.00 0.00 0.00 0.00 0.00 0.00 0.00 0.00 0.00 0.00 0.00 0.00 0.00 0.00 0.00 0.00 0.00 0.00 0.00 0.00 0.00 0.02 0.01 0.01 0.00 0.00 0.06 0.01 0.00 0.00 0.02 0.00 0.03 0.01 0.00 0.00 0.01 0.00 0.10 0.00 0.00 0.00 0.00 0.00 0.00 0.00 0.00 0.00 0.00 0.00 0.00 0.00 0.00 0.00 0.00 0.01 0.00 0.00 0.00 0.00 0.00 0.00 0.00 0.00 0.02 0.00 0.01 0.00 0.00 0.00 0.00 0.02 0.00 0.00 0.00 0.00 0.00 0.00 0.05 0.01 0.00 0.02 0.00 0.07 0.00 0.00 0.28 0.03 0.00 0.00 0.01 0.00 0.00 0.00 0.06 0.00 0.00 0.00 0.00 0.00 0.00 0.00 0.00 0.00 0.00 0.00 0.00 0.00 0.00 0.00 0.00 0.01 0.00 0.00 0.00 0.00 0.00 0.00 0.00 0.00 0.00 0.00 0.00 0.00 0.00 0.00 0.00 0.00 0.00 0.00 0.00 0.01 0.01 0.00 0.00 0.01 0.00 0.00 0.00 0.00 0.00 0.00 0.00 0.00 0.00 0.03 0.00 0.00 0.00 0.00 0.00 0.00 0.00 0.00 0.00 0.01 0.00 0.00 0.00 0.01 0.00 0.00 0.00 0.00 0.00 0.00 0.00 0.00 0.00 0.00 0.00 0.00 0.00 0.00 0.00 0.00 0.00 0.01 0.01 0.00 0.00 0.00 0.00 0.00 0.01 0.00 0.00 0.00 0.01 0.00 0.00 0.00 0.00 0.00 0.00 0.00 0.00 0.03 0.15 0.00 0.00 0.00 0.00 0.00 0.00 0.00 0.00 0.00 0.00 0.00 0.00 0.00 0.00 0.00 0.00 0.00 0.00 0.00 0.00 0.00 0.00 0.00 0.00 0.00 0.00 0.11 0.03 0.00 0.00 0.00 0.00 0.00 0.00 0.00 0.00 0.00 0.00 0.00 0.00 0.00 0.00 0.00 0.00 0.00 0.00 0.00 0.00 0.00 0.00 0.00 0.00 0.00 0.00 0.00 0.00 0.00 0.00 0.00 0.00 0.00 0.00 0.00 0.00 0.00 0.00 0.00 0.00 0.00 0.00 0.00 0.00 0.00 0.00 0.00 0.00 0.00 0.00 0.00 0.00 0.00 0.00 0.00 0.00 0.00 0.00 0.00 0.12 0.00 0.00 0.00 0.00 0.00 0.00 0.00 0.01 0.00 0.00 0.00 0.00 0.00 0.00 0.00 0.00 0.00 0.00 0.00 0.00 0.00 0.00 0.00 0.00 0.00 0.00 0.00 0.00 0.00 0.00 0.00 0.00 0.00 0.00 0.00 0.00 0.00 0.00 0.00 0.00 0.00 0.00 0.00 0.00 0.00 0.00 0.00 0.00 0.00 0.00 0.00 0.00 0.00 0.00 0.00 0.00 0.00 0.02 0.00 0.00 0.00 0.00 0.00 0.00 0.00 0.00 0.00 0.00 0.00 0.00 0.00 0.01 0.00 0.01 0.00 0.00 0.00 0.00 0.00 0.00 0.00 0.00 0.00 0.00 0.00 0.00 0.00 0.00 0.01 0.00 0.00 0.01 0.00 0.00 0.01 0.00 0.00 0.00 0.00 0.04 0.00 0.00 0.00 0.00 0.00 0.00 0.00 0.00 0.00 0.00 0.00 0.01 0.00 0.00 0.00 0.00 0.00 0.00 0.00 0.00 0.00 0.00 0.00 0.00 0.00 0.07 0.00 0.00 0.02 0.00 0.00 0.00 0.00 0.00 0.00 0.00 0.01 0.00 0.00 0.00 0.02 0.00 0.00 0.00 0.00 0.01 0.00 0.00 0.00 0.03 0.00 0.00 0.00 0.02 0.00 0.00 0.00 0.00 0.01 0.00 0.00 0.00 0.00 0.00 0.00 0.00 0.00 0.00 0.06 0.00 0.00 0.97 0.00 1.94 0.00 0.04 0.56 0.00 0.13 0.70 0.00 0.00 0.00 0.00 0.09 0.00 0.04 0.00 0.00 0.00 0.00 0.00 0.00 0.00 0.00 0.00 0.01 0.00 0.02 0.00 0.00 0.00 0.00 0.00 0.01 0.00 0.00 0.00 0.00 0.03 0.00 0.19 0.01 0.00 0.01 0.00 0.00 0.00 0.00 0.00 0.00 0.00 0.00 0.00 0.01 0.01 0.00 0.00 0.00 0.00 0.00 0.01\n",
      "Tax total time:\t\t1363355.71\n",
      "\n",
      "No tax flows:\t\t 7074.90 9662.50 7669.00 12173.80 2586.80 6576.60 7137.10 722.10 1186.57 1050.93 69.20 80.10 485.80 488.20 37.00 125.20 407.10 249.00 648.30 2185.80 683.00 746.90 291.10 503.60 1396.51 1245.29 619.78 904.62 1522.50 203.10 172.80 4694.88 3859.32 2660.00 315.00 314.20 233.50 1486.39 596.81 718.43 426.37 1804.70 1130.80 1563.50 2075.30 1395.18 662.72 803.10 980.10 3909.69 1412.51 1529.19 435.31 615.42 317.38 222.90 114.70 350.15 1161.65 18.30 24.20 34.10 13.30 342.49 55.30 390.19 252.20 5.60 12.10 229.12 32.20 0.03 -0.00 320.00 736.28 143.10 -0.00 107.14 17.40 81.80 95.50 288.63 275.00 20.80 -0.00 2771.42 979.01 1896.50 923.63 1861.34 481.72 2700.61 4415.84 2343.05 1287.80 2279.54 3788.30 3380.52 985.40 2013.38 3015.68 13602.20 13602.20 6619.74 162.10 6781.84 6781.84 5549.54 -0.00 5549.54 5444.44 735.50 6179.94 6023.14 2430.80 8453.94 2232.50 5436.50 7669.00 5676.60 5676.60 1761.80 3076.34 4838.14 4567.54 1227.19 5794.73 4573.73 56.61 4630.33 4630.33 942.10 5572.43 5572.43 5001.74 4660.76 9662.50 8328.00 8328.00 7777.29 726.58 8503.86 8503.86 4198.45 1837.07 684.93 6720.45 4822.36 -0.00 4822.36 3993.12 1925.15 5918.27 5918.27 -0.00 5918.27 5401.24 -0.00 5401.24 679.91 3015.65 2831.78 6527.34 6527.34 287.84 6815.18 6285.69 -0.00 6285.69 4136.44 811.80 4948.24 4948.24 187.81 5136.05 3492.71 1668.19 2688.20 7849.10 7849.10 6819.40 255.50 7074.90 4644.20 4644.20 3210.49 3585.36 6795.86 6795.86 6756.06 -0.00 6756.06 6756.06 885.70 7641.76 7004.46 -0.00 7004.46 7004.46 6178.33 1483.23 7661.57 7324.63 1016.73 8341.36 8341.36 7986.28 499.50 8485.78 5470.10 2998.78 3190.56 2512.00 8701.34 8439.14 73.70 8512.84 6221.44 3914.80 10136.24 10080.04 311.42 10391.46 6603.16 3630.85 3222.64 6853.50 6336.90 112.40 6449.30 6449.30 5210.39 222.20 5432.59 3630.38 334.70 3965.08 3965.08 3965.08 578.19 4543.27 3203.71 -0.00 3203.71 3203.71 191.50 3395.21 3395.21 1832.10 754.70 2586.80 6522.20 6522.20 5835.90 2137.41 7973.31 4453.01 3492.21 1695.41 5187.61 369.44 5557.06 5557.06 5557.06 870.00 6427.06 5863.45 -0.00 5863.45 5418.58 852.10 6270.69 6000.28 756.70 6756.98 6756.98 1559.10 1629.69 3251.72 6440.51 6440.51 4628.46 194.40 4822.86 4822.86 6982.46 570.69 7553.15 7553.15 6804.85 2664.17 9469.02 9469.02 2746.31 13.65 6095.90 8855.86 8855.86 8481.64 244.67 8726.31 7816.72 836.59 8653.31 8653.31 452.72 9106.03 7432.00 -0.00 7432.00 7432.00 6805.27 3955.28 650.26 4605.54 3293.39 7898.93 5502.17 1074.43 6576.60 4983.60 4983.60 3779.70 3520.30 2084.29 5604.59 469.80 6074.39 5393.49 -0.00 5393.49 5393.49 5210.19 617.90 5828.09 4465.40 1387.42 5852.82 5766.12 121.86 5887.98 5818.09 228.47 6046.56 2554.50 3551.46 6067.84 6105.96 12173.80 10223.90 10223.90 8936.10 6424.10 2700.61 0.04 3592.32 6292.96 5567.45 469.09 6036.54 5357.54 411.13 5768.67 5402.37 1872.78 7275.15 6033.20 -0.00 6033.20 5542.20 464.28 6006.47 5689.48 2396.08 1891.02 2849.99 4287.11 7137.10 3703.30 407.10 156.80 3703.30 250.30 270.60 1272.50 9.50 37.00 125.20 105.10 37.00 793.90 1221.00 75.30 799.30 1232.30 -0.00 -0.00 1232.30 942.10 592.80 37.00 241.50 249.00 56.20 241.50 322.92 262.20 60.20 188.12 340.30 24.20 75.11 113.90 76.69 306.80 18.30 1245.09 1412.15 915.56 4077.36 13.30 2325.06 2540.52 4303.34 34.10 1232.30 550.64 2089.67 3178.07 550.64 748.30 3178.07 550.65 1812.05 1262.20 454.01 302.30 55.30 592.80 2783.21 56.39 378.80 342.49 501.60 615.00 501.60 488.20 1184.00 648.30 69.89 211.20 235.27 517.03 -0.00 -0.00 517.03 287.84 517.03 287.84 576.54 915.56 576.54 915.56 -0.00 576.54 915.56 529.49 576.54 386.08 576.54 386.08 576.54 386.08 2815.11 2540.52 829.24 2815.11 2692.82 2149.25 1871.49 1698.48 1898.10 217.28 191.60 -0.00 217.30 379.41 296.51 56.39 550.71 979.39 335.20 1029.70 523.72 310.70 1273.42 310.70 1184.00 610.40 37.90 516.60 894.00 206.20 355.07 894.00 124.40 725.51 211.20 667.77 185.19 221.26 517.03 456.48 185.19 241.05 409.69 185.19 207.30 252.20 576.54 409.69 668.28 144.40 840.77 390.19 12.10 2214.60 1669.18 438.43 5.60 217.30 737.64 251.00 296.51 248.73 558.48 -0.00 374.22 296.77 194.31 270.40 62.14 856.10 1019.90 32.20 1273.42 237.64 37.00 37.00 485.80 1238.90 290.00 37.90 86.70 838.35 703.44 412.94 251.00 1306.70 -0.00 1054.62 336.93 1016.73 -0.00 725.70 336.93 -0.00 335.79 517.03 451.46 471.57 399.18 679.00 838.34 609.59 -0.00 430.78 -0.00 -0.00 1595.06 -0.00 890.26 1635.18 412.94 10.20 722.47 273.40 12.91 10.20 -0.00 722.47 1626.70 2185.80 1802.21 1626.70 718.29 826.13 1626.70 767.65 1306.70 1018.96 437.49 1378.99 774.40 437.49 725.70 774.40 787.72 380.91 988.60 819.52 923.27 443.27 1191.10 736.28 971.58 863.60 705.77 3156.50 320.00 1362.69 2441.12 392.50 628.28 962.60 392.50 803.60 -0.00 267.55 962.60 350.90 591.40 143.10 12.90 649.82 -0.00 10.20 734.50 1372.29 909.59 744.70 1516.10 444.87 961.51 1981.51 842.00 577.30 229.12 17.40 1019.68 734.01 734.01 69.20 366.30 1504.32 875.12 1378.89 -0.00 1545.46 270.37 1298.11 0.03 1075.93 598.05 412.55 1124.15 811.42 411.41 399.18 1230.80 767.33 74.23 590.57 244.68 652.11 336.22 180.47 350.90 183.30 180.47 785.50 1241.95 180.47 785.50 523.50 683.00 -0.00 523.50 765.79 637.30 28.10 187.98 11.00 87.59 116.61 341.75 87.59 116.61 1061.55 87.59 588.74 688.13 937.52 363.22 513.53 264.09 893.64 228.14 312.51 552.13 283.65 189.70 347.11 362.05 1422.42 189.69 287.27 691.45 0.00 408.70 287.27 -0.00 -0.00 408.70 740.00 563.61 408.70 740.00 458.90 107.14 972.30 425.39 71.70 425.39 80.10 0.00 -0.00 1110.56 746.90 1339.57 1110.56 85.20 -0.00 1788.43 200.21 11.00 1017.73 282.68 259.27 1017.73 282.68 1355.39 95.50 1533.64 1017.73 1781.80 862.30 821.75 919.51 0.00 692.60 557.66 689.18 552.13 344.10 557.67 689.41 301.39 851.79 275.00 1049.52 557.67 1288.37 491.00 823.66 1288.37 680.90 0.00 850.38 607.47 -0.00 1674.03 850.38 -0.00 -0.00 1916.95 545.10 400.00 -0.00 217.84 1592.05 229.70 229.70 1186.57 191.64 291.10 -0.00 191.64 291.10 39.80 0.14 251.30 0.14 251.30 11.00 0.14 270.48 2490.64 314.51 81.80 2128.40 689.52 307.30 0.01 1548.80 712.97 37.48 462.27 1586.28 1045.57 935.54 283.68 1969.68 926.93 456.50 274.01 288.63 1879.15 964.93 808.57 0.00 1860.38 964.94 182.70 317.00 2043.08 1731.24 626.73 1235.35 2224.57 960.80 1235.35 1577.17 564.70 20.80 1179.31 603.10 613.47 603.10 1050.93 1203.90 35.90 2.00 6087.10 503.60 6087.10 503.60 1563.11 6087.10 737.30 1433.71 7129.21 1228.11 132.41 979.01 133.29 5468.36 96.39 2771.42 194.25 691.68 593.79 23.46 1550.00 668.22 794.87 1512.52 1118.65 1466.11 410.69 2043.09 1029.28 509.38 616.10 923.63 717.67 1797.52 934.22 1693.60 1896.50 0.01 3154.46 387.90 2396.76 3342.01 1217.13 686.30 2727.01 591.63 628.33 650.40 37.00 37.00 722.10 593.79 1396.51 1466.11 1245.29 509.38 619.78 934.22 904.62 387.90 1522.50\n",
      "No tax total time:\t1418144.75\n",
      "\n",
      "Anarchy price:\t\t 1.0401868979613746\n"
     ]
    }
   ],
   "source": [
    "anarchy_cost(tax_result, no_tax_result)"
   ]
  },
  {
   "cell_type": "code",
   "execution_count": null,
   "metadata": {},
   "outputs": [],
   "source": []
  }
 ],
 "metadata": {
  "hide_input": false,
  "kernelspec": {
   "display_name": "Python 3",
   "language": "python",
   "name": "python3"
  },
  "language_info": {
   "codemirror_mode": {
    "name": "ipython",
    "version": 3
   },
   "file_extension": ".py",
   "mimetype": "text/x-python",
   "name": "python",
   "nbconvert_exporter": "python",
   "pygments_lexer": "ipython3",
   "version": "3.6.9"
  },
  "latex_envs": {
   "LaTeX_envs_menu_present": true,
   "autoclose": false,
   "autocomplete": true,
   "bibliofile": "biblio.bib",
   "cite_by": "apalike",
   "current_citInitial": 1,
   "eqLabelWithNumbers": true,
   "eqNumInitial": 1,
   "hotkeys": {
    "equation": "Ctrl-E",
    "itemize": "Ctrl-I"
   },
   "labels_anchors": false,
   "latex_user_defs": false,
   "report_style_numbering": false,
   "user_envs_cfg": false
  },
  "toc": {
   "base_numbering": 1,
   "nav_menu": {},
   "number_sections": true,
   "sideBar": true,
   "skip_h1_title": false,
   "title_cell": "Table of Contents",
   "title_sidebar": "Contents",
   "toc_cell": false,
   "toc_position": {},
   "toc_section_display": true,
   "toc_window_display": false
  }
 },
 "nbformat": 4,
 "nbformat_minor": 2
}
