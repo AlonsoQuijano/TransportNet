{
 "cells": [
  {
   "cell_type": "code",
   "execution_count": 26,
   "metadata": {},
   "outputs": [],
   "source": [
    "import pandas as pd\n",
    "import numpy as np\n",
    "import data_handler as dh\n",
    "import model as md\n",
    "import time\n",
    "import matplotlib.pyplot as plt\n",
    "from matplotlib import rc\n",
    "import pickle"
   ]
  },
  {
   "cell_type": "code",
   "execution_count": 27,
   "metadata": {},
   "outputs": [
    {
     "data": {
      "text/plain": [
       "<module 'model' from '/home/mikhail/Education/Semester_11/TransportNet/Stable Dynamic & Beckman/model.py'>"
      ]
     },
     "execution_count": 27,
     "metadata": {},
     "output_type": "execute_result"
    }
   ],
   "source": [
    "import importlib\n",
    "importlib.reload(dh)\n",
    "importlib.reload(md)"
   ]
  },
  {
   "cell_type": "code",
   "execution_count": 28,
   "metadata": {},
   "outputs": [
    {
     "data": {
      "text/plain": [
       "'0.53.1'"
      ]
     },
     "execution_count": 28,
     "metadata": {},
     "output_type": "execute_result"
    }
   ],
   "source": [
    "import numba\n",
    "numba.__version__"
   ]
  },
  {
   "cell_type": "code",
   "execution_count": 29,
   "metadata": {},
   "outputs": [
    {
     "name": "stdout",
     "output_type": "stream",
     "text": [
      "/usr/bin/python3\n",
      "3.6.9 (default, Jan 26 2021, 15:33:00) \n",
      "[GCC 8.4.0]\n",
      "sys.version_info(major=3, minor=6, micro=9, releaselevel='final', serial=0)\n",
      "python 3.6.9\n",
      "numpy 1.19.5\n",
      "pandas 1.1.4\n",
      "graph_tool 2.43 (commit 9d41331e, Wed Jul 7 15:32:52 2021 +0200)\n"
     ]
    }
   ],
   "source": [
    "import sys\n",
    "print(sys.executable)\n",
    "print(sys.version)\n",
    "print(sys.version_info)\n",
    "from platform import python_version\n",
    "print('python', python_version())\n",
    "print('numpy', np.__version__)\n",
    "print('pandas', pd.__version__)\n",
    "import graph_tool\n",
    "print('graph_tool', graph_tool.__version__)"
   ]
  },
  {
   "cell_type": "markdown",
   "metadata": {},
   "source": [
    "# Beckmann model paradox\n",
    "$\\rho = 1$ \n",
    "$\\mu = 1$"
   ]
  },
  {
   "cell_type": "code",
   "execution_count": 30,
   "metadata": {},
   "outputs": [],
   "source": [
    "beckmann_paradox_save = 'beckmann_paradox_results/'"
   ]
  },
  {
   "cell_type": "code",
   "execution_count": 31,
   "metadata": {},
   "outputs": [
    {
     "data": {
      "text/html": [
       "<div>\n",
       "<style scoped>\n",
       "    .dataframe tbody tr th:only-of-type {\n",
       "        vertical-align: middle;\n",
       "    }\n",
       "\n",
       "    .dataframe tbody tr th {\n",
       "        vertical-align: top;\n",
       "    }\n",
       "\n",
       "    .dataframe thead th {\n",
       "        text-align: right;\n",
       "    }\n",
       "</style>\n",
       "<table border=\"1\" class=\"dataframe\">\n",
       "  <thead>\n",
       "    <tr style=\"text-align: right;\">\n",
       "      <th></th>\n",
       "      <th>init_node</th>\n",
       "      <th>init_node_thru</th>\n",
       "      <th>term_node</th>\n",
       "      <th>term_node_thru</th>\n",
       "      <th>capacity</th>\n",
       "      <th>free_flow_time</th>\n",
       "    </tr>\n",
       "  </thead>\n",
       "  <tbody>\n",
       "    <tr>\n",
       "      <th>0</th>\n",
       "      <td>1</td>\n",
       "      <td>True</td>\n",
       "      <td>2</td>\n",
       "      <td>True</td>\n",
       "      <td>1.000000e-04</td>\n",
       "      <td>0.000001</td>\n",
       "    </tr>\n",
       "    <tr>\n",
       "      <th>1</th>\n",
       "      <td>1</td>\n",
       "      <td>True</td>\n",
       "      <td>3</td>\n",
       "      <td>True</td>\n",
       "      <td>1.000000e+20</td>\n",
       "      <td>45.000000</td>\n",
       "    </tr>\n",
       "    <tr>\n",
       "      <th>2</th>\n",
       "      <td>2</td>\n",
       "      <td>True</td>\n",
       "      <td>4</td>\n",
       "      <td>True</td>\n",
       "      <td>1.000000e+20</td>\n",
       "      <td>45.000000</td>\n",
       "    </tr>\n",
       "    <tr>\n",
       "      <th>3</th>\n",
       "      <td>3</td>\n",
       "      <td>True</td>\n",
       "      <td>4</td>\n",
       "      <td>True</td>\n",
       "      <td>1.000000e-04</td>\n",
       "      <td>0.000001</td>\n",
       "    </tr>\n",
       "    <tr>\n",
       "      <th>4</th>\n",
       "      <td>2</td>\n",
       "      <td>True</td>\n",
       "      <td>3</td>\n",
       "      <td>True</td>\n",
       "      <td>1.000000e+20</td>\n",
       "      <td>0.000001</td>\n",
       "    </tr>\n",
       "  </tbody>\n",
       "</table>\n",
       "</div>"
      ],
      "text/plain": [
       "   init_node  init_node_thru  term_node  term_node_thru      capacity  \\\n",
       "0          1            True          2            True  1.000000e-04   \n",
       "1          1            True          3            True  1.000000e+20   \n",
       "2          2            True          4            True  1.000000e+20   \n",
       "3          3            True          4            True  1.000000e-04   \n",
       "4          2            True          3            True  1.000000e+20   \n",
       "\n",
       "   free_flow_time  \n",
       "0        0.000001  \n",
       "1       45.000000  \n",
       "2       45.000000  \n",
       "3        0.000001  \n",
       "4        0.000001  "
      ]
     },
     "execution_count": 31,
     "metadata": {},
     "output_type": "execute_result"
    }
   ],
   "source": [
    "net_name = 'BeckmanParadox_net.tntp'\n",
    "trips_name = 'BeckmanParadox_trips.tntp'\n",
    "\n",
    "MU = 1\n",
    "RHO = 1\n",
    "\n",
    "handler = dh.DataHandler()\n",
    "graph_data = handler.GetGraphData(net_name, columns = ['init_node', 'term_node', 'capacity', 'free_flow_time'])\n",
    "graph_correspondences, total_od_flow = handler.GetGraphCorrespondences(trips_name)\n",
    "\n",
    "no_tax_model = md.Model(graph_data, graph_correspondences, \n",
    "                        total_od_flow, mu = MU, rho = RHO)\n",
    "\n",
    "tax_model = md.ModelWithTaxes(graph_data, graph_correspondences, \n",
    "                              total_od_flow, mu = MU, rho = RHO)\n",
    "\n",
    "graph_data['graph_table'].head()"
   ]
  },
  {
   "cell_type": "code",
   "execution_count": 32,
   "metadata": {},
   "outputs": [
    {
     "name": "stdout",
     "output_type": "stream",
     "text": [
      "No tax calculation\n",
      "Composite optimization...\n",
      "Oracles created...\n",
      "Weighted dual averages method...\n",
      "\tElapsed time: 59 sec\n",
      "Tax calculation\n",
      "Composite optimization...\n",
      "Oracles created...\n",
      "Weighted dual averages method...\n",
      "\tElapsed time: 57 sec\n"
     ]
    }
   ],
   "source": [
    "max_iter = 100000\n",
    "\n",
    "solver_kwargs = {'eps_abs': 0.3,\n",
    "                 'max_iter': max_iter, 'stop_crit': 'dual_gap',\n",
    "                 'verbose' : False, 'verbose_step': 2000, 'save_history' : True}\n",
    "\n",
    "print('No tax calculation')\n",
    "tic = time.time()\n",
    "no_tax_result = no_tax_model.find_equilibrium(solver_name = 'wda', solver_kwargs = solver_kwargs)\n",
    "toc = time.time()\n",
    "print('\\tElapsed time: {:.0f} sec'.format(toc - tic))\n",
    "\n",
    "print('Tax calculation')\n",
    "tic = time.time()\n",
    "tax_result = tax_model.find_equilibrium(solver_name = 'wda', solver_kwargs = solver_kwargs)\n",
    "toc = time.time()\n",
    "print('\\tElapsed time: {:.0f} sec'.format(toc - tic))"
   ]
  },
  {
   "cell_type": "code",
   "execution_count": 33,
   "metadata": {
    "heading_collapsed": true
   },
   "outputs": [
    {
     "name": "stdout",
     "output_type": "stream",
     "text": [
      "Tax flows:\t\t 2263.01 1736.99 1736.95 2263.05 526.07\n",
      "Taxes costs:\t\t 22.63 0.00 0.00 22.63 0.00\n",
      "Tax total time:\t\t257573.65\n",
      "\n",
      "No tax flows:\t\t 4000.00 -0.00 -0.00 4000.00 4000.00\n",
      "No tax total time:\t317840.27\n",
      "\n",
      "Anarchy price:\t\t 1.2339782250795903\n"
     ]
    }
   ],
   "source": [
    "def form_list(arr):\n",
    "     return [\"{0:0.2f}\".format(el) for el in arr]\n",
    "\n",
    "def anarchy_cost(tax_result, no_tax_result):\n",
    "    tax_vals = tax_result['taxes']\n",
    "    tax_t = tax_result['times'] - tax_vals\n",
    "    tax_f = tax_result['flows']\n",
    "    no_tax_t = no_tax_result['times']\n",
    "    no_tax_f = no_tax_result['flows']\n",
    "    \n",
    "    tax_total = np.dot(tax_t, tax_f)\n",
    "    no_tax_total = np.dot(no_tax_t, no_tax_f)\n",
    "    print(\"Tax flows:\\t\\t\", *form_list(tax_f))\n",
    "    print(\"Taxes costs:\\t\\t\", *form_list(tax_vals))\n",
    "    print(\"Tax total time:\\t\\t{:.2f}\\n\".format(tax_total))\n",
    "    print(\"No tax flows:\\t\\t\", *form_list(no_tax_f))\n",
    "    print(\"No tax total time:\\t{:.2f}\".format(no_tax_total))\n",
    "    print(\"\\nAnarchy price:\\t\\t\", no_tax_total / tax_total)\n",
    "\n",
    "anarchy_cost(tax_result, no_tax_result)"
   ]
  },
  {
   "cell_type": "code",
   "execution_count": null,
   "metadata": {},
   "outputs": [],
   "source": []
  }
 ],
 "metadata": {
  "hide_input": false,
  "kernelspec": {
   "display_name": "Python 3",
   "language": "python",
   "name": "python3"
  },
  "language_info": {
   "codemirror_mode": {
    "name": "ipython",
    "version": 3
   },
   "file_extension": ".py",
   "mimetype": "text/x-python",
   "name": "python",
   "nbconvert_exporter": "python",
   "pygments_lexer": "ipython3",
   "version": "3.6.9"
  },
  "latex_envs": {
   "LaTeX_envs_menu_present": true,
   "autoclose": false,
   "autocomplete": true,
   "bibliofile": "biblio.bib",
   "cite_by": "apalike",
   "current_citInitial": 1,
   "eqLabelWithNumbers": true,
   "eqNumInitial": 1,
   "hotkeys": {
    "equation": "Ctrl-E",
    "itemize": "Ctrl-I"
   },
   "labels_anchors": false,
   "latex_user_defs": false,
   "report_style_numbering": false,
   "user_envs_cfg": false
  },
  "toc": {
   "base_numbering": 1,
   "nav_menu": {},
   "number_sections": true,
   "sideBar": true,
   "skip_h1_title": false,
   "title_cell": "Table of Contents",
   "title_sidebar": "Contents",
   "toc_cell": false,
   "toc_position": {},
   "toc_section_display": true,
   "toc_window_display": false
  }
 },
 "nbformat": 4,
 "nbformat_minor": 2
}
